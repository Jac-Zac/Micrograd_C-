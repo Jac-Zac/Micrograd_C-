{
 "cells": [
  {
   "cell_type": "code",
   "execution_count": 1,
   "metadata": {},
   "outputs": [
    {
     "name": "stderr",
     "output_type": "stream",
     "text": [
      "ERROR in cling::CIFactory::createCI(): cannot extract standard library include paths!\n",
      "Invoking:\n",
      "  LC_ALL=C /Applications/Xcode.app/Contents/Developer/Toolchains/XcodeDefault.xctoolchain/usr/bin/c++    -xc++ -E -v /dev/null 2>&1 | sed -n -e '/^.*include/,${' -e '/^ \\/.*++/p' -e '}'\n",
      "Results was:\n",
      "With exit code 0\n",
      "Warning: sysroot \"/Applications/Xcode.app/Contents/Developer/Platforms/MacOSX.platform/Developer/SDKs/MacOSX.sdk\" not found (ignoring for now).2023-04-01 10:54:34.410399: I tensorflow/core/platform/cpu_feature_guard.cc:182] This TensorFlow binary is optimized to use available CPU instructions in performance-critical operations.\n",
      "To enable the following instructions: AVX2 FMA, in other operations, rebuild TensorFlow with the appropriate compiler flags.\n"
     ]
    }
   ],
   "source": [
    "import cppyy\n",
    "import cppyy.gbl as cpp\n",
    "from cppyy.gbl import std\n",
    "\n",
    "from keras.datasets import mnist\n",
    "\n",
    "import numpy as np\n",
    "import matplotlib.pyplot as plt"
   ]
  },
  {
   "cell_type": "code",
   "execution_count": 2,
   "metadata": {},
   "outputs": [
    {
     "data": {
      "text/plain": [
       "True"
      ]
     },
     "execution_count": 2,
     "metadata": {},
     "output_type": "execute_result"
    }
   ],
   "source": [
    "cppyy.include('../include/micrograd/engine.hpp')\n",
    "cppyy.include('../include/micrograd/nn.hpp')"
   ]
  },
  {
   "cell_type": "code",
   "execution_count": 3,
   "metadata": {},
   "outputs": [
    {
     "name": "stdout",
     "output_type": "stream",
     "text": [
      "Downloading data from https://storage.googleapis.com/tensorflow/tf-keras-datasets/mnist.npz\n",
      "11490434/11490434 [==============================] - 2s 0us/step\n"
     ]
    }
   ],
   "source": [
    "(raw_train_X, raw_train_y), (raw_test_X, raw_test_y) = mnist.load_data()\n",
    "train_X = std.vector[std.vector[float]]()\n",
    "train_y = std.vector[std.vector[float]]()\n",
    "test_X = std.vector[std.vector[float]]()\n",
    "test_y = std.vector[std.vector[float]]()\n",
    "\n",
    "[train_X.push_back(std.vector[float](list(x.flatten()/255 - 0.5))) for x in raw_train_X];\n",
    "[train_y.push_back(std.vector[float](list(np.eye(10)[y]))) for y in raw_train_y];\n",
    "[test_X.push_back(std.vector[float](list(x.flatten()/255 - 0.5))) for x in raw_test_X];\n",
    "[test_y.push_back(std.vector[float](list(np.eye(10)[y]))) for y in raw_test_y];"
   ]
  },
  {
   "cell_type": "code",
   "execution_count": 4,
   "metadata": {},
   "outputs": [
    {
     "name": "stdout",
     "output_type": "stream",
     "text": [
      "2\n"
     ]
    },
    {
     "data": {
      "image/png": "[encoded data removed]",
      "text/plain": [
       "<Figure size 640x480 with 1 Axes>"
      ]
     },
     "metadata": {},
     "output_type": "display_data"
    }
   ],
   "source": [
    "test_ind = np.random.randint(0, len(raw_train_X))\n",
    "plt.imshow(raw_train_X[test_ind])\n",
    "print(raw_train_y[test_ind])"
   ]
  },
  {
   "cell_type": "code",
   "execution_count": 8,
   "metadata": {},
   "outputs": [],
   "source": [
    "output = 10\n",
    "mnist_model = cpp.MLP[float,3](784,[100, 30, output])"
   ]
  },
  {
   "cell_type": "code",
   "execution_count": 11,
   "metadata": {},
   "outputs": [
    {
     "ename": "TypeError",
     "evalue": "unsupported operand type(s) for ** or pow(): 'vector<value_engine::Value<float>>' and 'int'",
     "output_type": "error",
     "traceback": [
      "\u001b[0;31m---------------------------------------------------------------------------\u001b[0m",
      "\u001b[0;31mTypeError\u001b[0m                                 Traceback (most recent call last)",
      "Cell \u001b[0;32mIn[11], line 17\u001b[0m\n\u001b[1;32m     12\u001b[0m tmp \u001b[38;5;241m=\u001b[39m cpp\u001b[38;5;241m.\u001b[39mValue[\u001b[38;5;28mfloat\u001b[39m](\u001b[38;5;241m0\u001b[39m)\n\u001b[1;32m     14\u001b[0m \u001b[38;5;66;03m#for i in range(output):\u001b[39;00m\n\u001b[1;32m     15\u001b[0m  \u001b[38;5;66;03m#   tmp += (prediction[i] - train_y[j+k][i])\u001b[39;00m\n\u001b[0;32m---> 17\u001b[0m loss \u001b[38;5;241m=\u001b[39m \u001b[43mprediction\u001b[49m\u001b[38;5;241;43m*\u001b[39;49m\u001b[38;5;241;43m*\u001b[39;49m\u001b[38;5;241;43m2\u001b[39;49m\n\u001b[1;32m     19\u001b[0m loss\u001b[38;5;241m.\u001b[39mbackward()\n\u001b[1;32m     21\u001b[0m running_loss \u001b[38;5;241m+\u001b[39m\u001b[38;5;241m=\u001b[39m loss\u001b[38;5;241m.\u001b[39mdata\n",
      "\u001b[0;31mTypeError\u001b[0m: unsupported operand type(s) for ** or pow(): 'vector<value_engine::Value<float>>' and 'int'"
     ]
    }
   ],
   "source": [
    "BATCH = 50\n",
    "EPOCHS = 3\n",
    "LOSSES = []\n",
    "running_loss = 0\n",
    "\n",
    "for i in range(EPOCHS):\n",
    "    for j in range(0, len(train_X), BATCH):\n",
    "        for k in range(min(BATCH, len(train_X)-j)):\n",
    "            \n",
    "            prediction = mnist_model(train_X[j+k])\n",
    "            \n",
    "            tmp = cpp.Value[float](0)\n",
    "            \n",
    "            #for i in range(output):\n",
    "             #   tmp += (prediction[i] - train_y[j+k][i])\n",
    "            \n",
    "            loss = prediction**2\n",
    "            \n",
    "            loss.backward()\n",
    "            \n",
    "            running_loss += loss.data\n",
    "            \n",
    "        for parameter in mnist_model.parameters():\n",
    "            parameter.data += -0.0005 * parameters.grad\n",
    "            \n",
    "        mnist_model.zero_grad()\n",
    "        print(f\"Epoch: {i}, Batch: {j}, Loss: {running_loss/k}\")\n",
    "        running_loss = 0.0"
   ]
  },
  {
   "cell_type": "code",
   "execution_count": 14,
   "metadata": {},
   "outputs": [
    {
     "name": "stdout",
     "output_type": "stream",
     "text": [
      "Accuracy: 0.8485\n"
     ]
    }
   ],
   "source": [
    "count = 0\n",
    "for x, y in zip(test_X, test_y):\n",
    "    if np.argmax([val.get_data() for val in mnist_model(x)]) == np.argmax(y):\n",
    "        count += 1\n",
    "print(f\"Accuracy: {count/len(test_X)}\")"
   ]
  },
  {
   "cell_type": "code",
   "execution_count": 15,
   "metadata": {},
   "outputs": [],
   "source": [
    "test_dict = dict()\n",
    "\n",
    "for i, (x, y) in enumerate(zip(test_X, test_y)):\n",
    "    prediction = np.argmax([val.get_data() for val in mnist_model(x)])\n",
    "    test_dict[i] = (prediction, np.argmax(y))\n",
    "\n",
    "fail_dict = {k:v for k,v in test_dict.items() if v[0] != v[1]}"
   ]
  },
  {
   "cell_type": "code",
   "execution_count": 27,
   "metadata": {},
   "outputs": [
    {
     "name": "stdout",
     "output_type": "stream",
     "text": [
      "Prediction: 3, Actual: 2\n"
     ]
    },
    {
     "data": {
      "image/png": "[encoded data removed]",
      "text/plain": [
       "<Figure size 640x480 with 1 Axes>"
      ]
     },
     "metadata": {},
     "output_type": "display_data"
    }
   ],
   "source": [
    "def visualise_error(ind):\n",
    "    plt.imshow(raw_test_X[ind])\n",
    "    print(f\"Prediction: {fail_dict[ind][0]}, Actual: {fail_dict[ind][1]}\")\n",
    "\n",
    "all_fail = list(fail_dict.keys())\n",
    "\n",
    "visualise_error(all_fail[10])"
   ]
  },
  {
   "cell_type": "code",
   "execution_count": null,
   "metadata": {},
   "outputs": [],
   "source": []
  }
 ],
 "metadata": {
  "kernelspec": {
   "display_name": "Python 3 (ipykernel)",
   "language": "python",
   "name": "python3"
  },
  "language_info": {
   "codemirror_mode": {
    "name": "ipython",
    "version": 3
   },
   "file_extension": ".py",
   "mimetype": "text/x-python",
   "name": "python",
   "nbconvert_exporter": "python",
   "pygments_lexer": "ipython3",
   "version": "3.8.9"
  },
  "vscode": {
   "interpreter": {
    "hash": "916dbcbb3f70747c44a77c7bcd40155683ae19c65e1c03b4aa3499c5328201f1"
   }
  }
 },
 "nbformat": 4,
 "nbformat_minor": 2
}
